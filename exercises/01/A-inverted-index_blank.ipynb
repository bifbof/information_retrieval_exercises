{
 "cells": [
  {
   "cell_type": "markdown",
   "id": "hollywood-examination",
   "metadata": {},
   "source": [
    "Implementing a simple inverted index\n",
    "====================================\n",
    "\n",
    "In this exercise you will implement a simple inverted index in python.\n",
    "\n",
    "We provide a boolean query parser for you. You can use the parser as follows"
   ]
  },
  {
   "cell_type": "code",
   "execution_count": null,
   "id": "684a147c",
   "metadata": {},
   "outputs": [],
   "source": [
    "import sys\n",
    "sys.path.append(\"../../\")"
   ]
  },
  {
   "cell_type": "code",
   "execution_count": null,
   "id": "structured-passage",
   "metadata": {},
   "outputs": [],
   "source": [
    "from queryparser import parse_query\n",
    "parse_query('Caesar AND Brutus')"
   ]
  },
  {
   "cell_type": "markdown",
   "id": "recovered-charter",
   "metadata": {},
   "source": [
    "Note that the result of `parse_query` is an abstract syntax tree (AST).  We\n",
    "provide another method `process_ast`, which will traverse the AST and produce\n",
    "a flattened version for some queries.  The parser can deal with any valid\n",
    "boolean query which uses the operators `AND`, `OR`, and `NOT`. However your\n",
    "solution will not have to be able to handle all the possible queries."
   ]
  },
  {
   "cell_type": "code",
   "execution_count": null,
   "id": "danish-superior",
   "metadata": {},
   "outputs": [],
   "source": [
    "from queryparser import parse_query, process_ast\n",
    "process_ast(parse_query('Caesar AND Brutus'))"
   ]
  },
  {
   "cell_type": "markdown",
   "id": "executed-proxy",
   "metadata": {},
   "source": [
    "To handle errors in the query parser, you can catch `ParseException`.  For\n",
    "example, the query `Clown AND OR Circus` is not a well-formed boolean query.\n",
    "To not have your code crash with an unhandled exception you can do something\n",
    "like the following:"
   ]
  },
  {
   "cell_type": "code",
   "execution_count": null,
   "id": "distributed-stake",
   "metadata": {},
   "outputs": [],
   "source": [
    "from queryparser import ParseException\n",
    "try:\n",
    "    ast = parse_query('Clown AND OR Circus')\n",
    "except ParseException as e:\n",
    "    print(\"Failed to parse query:\\n\", e)"
   ]
  },
  {
   "cell_type": "markdown",
   "id": "taken-wallace",
   "metadata": {},
   "source": [
    "For the purposes of this exercise we provide you with the collected works of\n",
    "Shakespeare as retrieved from\n",
    "[gutenberg.org](http://www.gutenberg.org/files/100/100-0.txt) and split up\n",
    "into individual text files which you can find in `shared/corpus` in the root\n",
    "directory of your Jupyter account (which is your home directory on that\n",
    "machine).\n",
    "\n",
    "In a future exercise, we will ask you to implement an algorithm for splitting\n",
    "up such a text file into smaller documents yourselves, but for this week, we\n",
    "have done the preprocessing for you.\n",
    "\n",
    "To iterate over all the text files, for example to add them to your inverted\n",
    "index, you can use python's `glob` library which allows you to list files\n",
    "using regular Unix shell [glob syntax](https://en.wikipedia.org/wiki/Glob_(programming)."
   ]
  },
  {
   "cell_type": "code",
   "execution_count": null,
   "id": "global-screening",
   "metadata": {},
   "outputs": [],
   "source": [
    "import glob\n",
    "for file in glob.glob(\"../../shared/corpus/*.txt\"):\n",
    "    print(file)"
   ]
  },
  {
   "cell_type": "markdown",
   "id": "stable-documentation",
   "metadata": {},
   "source": [
    "Now that we have a way to parse a boolean query, and a corpus of documents,\n",
    "what is left to do is to implement a simple inverted index.  For this exercise\n",
    "you can assume that the dictionary, and the postings fit into main memory.\n",
    "\n",
    "We also provide you with a very simple method which handles both the\n",
    "tokenizing of a document and preprocessing of the resulting tokens.  This\n",
    "method will not do much linguistic preprocessing but rather just strips each\n",
    "token of special characters such as quotes, punctuation marks, etc.\n",
    "\n",
    "We will discuss linguistic preprocessing in more details in future exercises.\n",
    "\n",
    "Below is a very simple example of how to use the `tokenize_document` function."
   ]
  },
  {
   "cell_type": "code",
   "execution_count": null,
   "id": "latin-banking",
   "metadata": {},
   "outputs": [],
   "source": [
    "from textutils import tokenize_document\n",
    "for token in tokenize_document('../../shared/corpus/the_phoenix_and_the_turtle.txt'):\n",
    "    print(token)"
   ]
  },
  {
   "cell_type": "markdown",
   "id": "jewish-entrance",
   "metadata": {},
   "source": [
    "Now all that is left to do is to implement some code which will create an\n",
    "inverted index.  We give you a very simple skeleton which outlines the\n",
    "implementation work that you will have to do.\n",
    "\n",
    "In the index we want to refer to documents by a document ID.\n",
    "We define variables `documents` which we will assume to be the datastructure\n",
    "mapping document IDs to documents and `the_index` which will be the variable\n",
    "holding the inverted index.\n",
    "\n",
    "Note that while we currently initialize `the_index` to `None`, you will have\n",
    "to choose a data structure to represent the inverted index, and initialize the\n",
    "variable accordingly."
   ]
  },
  {
   "cell_type": "code",
   "execution_count": null,
   "id": "maritime-campbell",
   "metadata": {},
   "outputs": [],
   "source": [
    "documents = dict()\n",
    "the_index = None"
   ]
  },
  {
   "cell_type": "markdown",
   "id": "alert-perception",
   "metadata": {},
   "source": [
    "The easiest way to do this for now, is to simply have a counter which we\n",
    "increment every time we add a document to the index.  In order to be able to\n",
    "produce human-readable results you will need to also keep track of which\n",
    "document ID refers to which document.  The function we provide to print\n",
    "results expects that `documents` is a `dict` mapping document IDs to document\n",
    "file names."
   ]
  },
  {
   "cell_type": "code",
   "execution_count": null,
   "id": "independent-alberta",
   "metadata": {},
   "outputs": [],
   "source": [
    "documentid_counter = 1\n",
    "def add_document(path):\n",
    "    '''\n",
    "    Add a document to the inverted index. Return the document's document ID.\n",
    "    Remember the mapping from document ID to document in the `documents`\n",
    "    data structure.\n",
    "    '''\n",
    "    # make sure that we access the global variables we have defined\n",
    "    global the_index, documents, documentid_counter\n",
    "    print(\"Adding '%s' to index\" % path)"
   ]
  },
  {
   "cell_type": "markdown",
   "id": "plastic-oklahoma",
   "metadata": {},
   "source": [
    "Assuming you have implemented `add_document` correctly you should be able to\n",
    "create an inverted index as follows."
   ]
  },
  {
   "cell_type": "code",
   "execution_count": null,
   "id": "measured-geology",
   "metadata": {},
   "outputs": [],
   "source": [
    "import glob\n",
    "for file in glob.glob('../../shared/corpus/*.txt'):\n",
    "    add_document(file)"
   ]
  },
  {
   "cell_type": "markdown",
   "id": "included-poison",
   "metadata": {},
   "source": [
    "Now you need to implement a method to process boolean queries.  For this\n",
    "exercise it is enough if your query processing can handle simple boolean\n",
    "query with at most one operation.  Below is a selection of queries your\n",
    "implementation should be able to handle.\n",
    "\n",
    "So you do not have to walk the AST you can use the method `process_ast` which\n",
    "was mentioned earlier to transform the AST into a flattened representation.\n",
    "Additionally we provide a method `operation_is_complex`, which will return\n",
    "`True` if the query is more complex than what we reasonably expect you to\n",
    "handle."
   ]
  },
  {
   "cell_type": "code",
   "execution_count": null,
   "id": "forward-ghana",
   "metadata": {},
   "outputs": [],
   "source": [
    "from queryparser import process_ast\n",
    "ast = parse_query('Brutus AND Calpurnia')\n",
    "print(\"AST representation:\", ast)\n",
    "flat = process_ast(ast)\n",
    "print(\"Flattened representation:\", flat)\n",
    "print(flat.op)\n",
    "print(flat.args)"
   ]
  },
  {
   "cell_type": "markdown",
   "id": "rural-backing",
   "metadata": {},
   "source": [
    "As you can see, it is easier to extract the operation and operands from the\n",
    "flat representation.  The flattened representation is composed from\n",
    "`Operation` objects, and strings.\n",
    "An `Operation` object is a representation of a boolean query operation.  The\n",
    "`op` field represents the operation type which should be one of `AND`, `OR`,\n",
    "`NOT`, or `LOOKUP`.\n",
    "The `args` field is a list of one or more arguments for the operation.  `NOT`\n",
    "and `LOOKUP` operations are expected to have a argument list of length one.\n",
    "`AND`, and `OR` can have arbitrarily long argument lists, but the argument\n",
    "list for such an operation should contain at least two elements.\n",
    "For `AND` and `OR`, we represent operands of the form 'NOT <term>' as the\n",
    "string '-<term>' to allow more efficient execution of queries of the form 'a\n",
    "AND NOT b' and 'a OR NOT b'.\n",
    "\n",
    "Before directly diving into the full query processing code, you will have to\n",
    "implement methods that compute the intersection and union of two postings\n",
    "lists.  We give you method declarations for these operations, but if you need\n",
    "to change the method arguments feel free to do so.\n",
    "\n",
    "While we do not give hard requirements on the method arguments for either\n",
    "operation, you should probably consider making it a requirement that the\n",
    "postings lists which you pass to `intersect` and `union` are sorted, as that\n",
    "will make implementing the functionality significantly easier."
   ]
  },
  {
   "cell_type": "code",
   "execution_count": null,
   "id": "enhanced-reserve",
   "metadata": {},
   "outputs": [],
   "source": [
    "def intersect(p1, p2):\n",
    "    '''\n",
    "    Method to compute the intersection of two postings lists.  Takes two\n",
    "    postings lists as arguments and returns the intersection.\n",
    "    '''\n",
    "    pass\n",
    "\n",
    "def union(p1, p2):\n",
    "    '''\n",
    "    Method to compute the union of two postings lists.  Takes two\n",
    "    postings lists as arguments and returns the union.\n",
    "    '''\n",
    "    pass"
   ]
  },
  {
   "cell_type": "markdown",
   "id": "animal-exemption",
   "metadata": {},
   "source": [
    "Below there are a few example calls to `intersect` and `union` which you can\n",
    "use to test your implementation."
   ]
  },
  {
   "cell_type": "code",
   "execution_count": null,
   "id": "equal-parks",
   "metadata": {},
   "outputs": [],
   "source": [
    "print(intersect([1,2,3,6], [1,3,4])) # should produce [1,3]\n",
    "print(intersect([1,6], [3,4])) # should produce []\n",
    "print(intersect([1,2,6], [1,6])) # should produce [1,6]\n",
    "print(intersect([], [1,3])) # should produce []\n",
    "\n",
    "print(union([1,2], [3,4])) # should produce [1,2,3,4]\n",
    "print(union([1,2], [1,2,4])) # should produce [1,2,4]\n",
    "print(union([1,2,6], [2,4,5])) # should produce [1,2,4,5,6]\n",
    "print(union([], [1,3])) # should produce [1,3]"
   ]
  },
  {
   "cell_type": "markdown",
   "id": "built-absorption",
   "metadata": {},
   "source": [
    "Now you should be fairly well-equipped to implement a boolean query processor.\n",
    "Feel free to split your implementation into multiple methods if you find that\n",
    "`execute_query` is getting too big for your taste.\n",
    "\n",
    "Note that we expect you to implement intersections and unions of more than two\n",
    "terms in the way discussed in the lecture and the book.\n",
    "\n",
    "Queries that are conjunctions where all terms are negated (i.e.\n",
    "`NOT Brutus AND NOT Calpurnia`) and queries that are disjunction where\n",
    "at least one term is negated (i.e. `Brutus OR NOT Calpurnia OR Hamlet`)\n",
    "are often not implemented in real-world, large-scale, general purpose systems.\n",
    "We do not expect you to implement them either, your code can just return `None`\n",
    "in these cases."
   ]
  },
  {
   "cell_type": "code",
   "execution_count": null,
   "id": "armed-journalist",
   "metadata": {},
   "outputs": [],
   "source": [
    "from queryparser import operation_is_complex\n",
    "def execute_query(query):\n",
    "    '''\n",
    "    Execute a boolean query on the inverted index. This method should return a\n",
    "    list of document ids which satisfy the query. The list does not need to be\n",
    "    in a particular order.\n",
    "    '''\n",
    "    try:\n",
    "        ast = parse_query(query)\n",
    "    except ParseException as e:\n",
    "        print(\"Failed to parse query '%s':\\n\" % query, e)\n",
    "\n",
    "    # flatten query AST\n",
    "    flat = process_ast(ast)\n",
    "\n",
    "    if operation_is_complex(flat):\n",
    "        print(\"Complex query '%s'\" % query)\n",
    "        return None\n",
    "\n",
    "    # TODO: implement query processing\n",
    "    print(\"Processing\", flat)"
   ]
  },
  {
   "cell_type": "markdown",
   "id": "suburban-karaoke",
   "metadata": {},
   "source": [
    "If you can process all the queries given below, you have made a good start on\n",
    "building an inverted index and boolean query processor.\n",
    "A good way to improve your query processing is to directly handle `AND NOT`.\n",
    "You can either try to extend the `intersect` method which you implemented\n",
    "previously, or you can implement `AND NOT` in a separate method.\n",
    "\n",
    "In order to get human readable output, the following function translates\n",
    "document IDs back to file names, assuming you've correctly populated the\n",
    "`documents` dict."
   ]
  },
  {
   "cell_type": "code",
   "execution_count": null,
   "id": "recognized-formula",
   "metadata": {},
   "outputs": [],
   "source": [
    "def print_result(docs):\n",
    "    if not docs:\n",
    "        print(\"No documents found\")\n",
    "        print()\n",
    "        return\n",
    "    # If we got some results, print them\n",
    "    for doc in docs:\n",
    "        print(documents[doc])\n",
    "    print()"
   ]
  },
  {
   "cell_type": "code",
   "execution_count": null,
   "id": "outside-motel",
   "metadata": {},
   "outputs": [],
   "source": [
    "print_result(execute_query('Caesar'))\n",
    "print_result(execute_query('hello'))\n",
    "print_result(execute_query('Brutus AND Calpurnia'))\n",
    "print_result(execute_query('Brutus OR Hamlet'))\n",
    "print_result(execute_query('Brutus AND NOT Calpurnia'))\n",
    "print_result(execute_query('Caesar AND Brutus AND Calpurnia'))\n",
    "print_result(execute_query('Caesar AND Brutus AND NOT Calpurnia'))"
   ]
  },
  {
   "cell_type": "markdown",
   "id": "republican-concept",
   "metadata": {},
   "source": [
    "If you wish, you can try to improve your query processor to handle more\n",
    "complex queries, such as the examples below.  This part is optional.\n",
    "\n",
    "Note that the query parser gives `NOT` precedence over `AND`, and `AND`\n",
    "precedence over `OR` in the absence of parentheses in queries."
   ]
  },
  {
   "cell_type": "code",
   "execution_count": null,
   "id": "known-balance",
   "metadata": {},
   "outputs": [],
   "source": [
    "print_result(execute_query('(Caesar OR Brutus) AND Calpurnia'))\n",
    "print_result(execute_query('(Caesar OR Brutus) AND (Calpurnia OR clown)'))\n",
    "print_result(execute_query('(Brutus AND Calpurnia) OR (Romeo AND Juliet)'))\n",
    "print_result(execute_query('Caesar OR Brutus AND Calpurnia'))"
   ]
  },
  {
   "cell_type": "markdown",
   "id": "vulnerable-friendship",
   "metadata": {},
   "source": [
    "If everything so far was a walk in the park for you, you can even try to\n",
    "implement a method which converts any query into conjunctive normal form\n",
    "(CNF).  Note, however, that converting a boolean formula to CNF is NP hard,\n",
    "and as such we do not require you to do this."
   ]
  }
 ],
 "metadata": {
  "kernelspec": {
   "display_name": "Python 3",
   "language": "python",
   "name": "python3"
  },
  "language_info": {
   "codemirror_mode": {
    "name": "ipython",
    "version": 3
   },
   "file_extension": ".py",
   "mimetype": "text/x-python",
   "name": "python",
   "nbconvert_exporter": "python",
   "pygments_lexer": "ipython3",
   "version": "3.6.13"
  }
 },
 "nbformat": 4,
 "nbformat_minor": 5
}
