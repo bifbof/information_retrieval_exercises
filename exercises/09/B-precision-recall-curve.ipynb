{
 "cells": [
  {
   "cell_type": "markdown",
   "metadata": {},
   "source": [
    "A ranked retrieval engine outputs 20 documents. We show below, for each of them in order, whether it was relevant or not:"
   ]
  },
  {
   "cell_type": "markdown",
   "metadata": {},
   "source": [
    "```\n",
    "Relevant\n",
    "Relevant\n",
    "Relevant\n",
    "Relevant\n",
    "Not relevant\n",
    "Relevant\n",
    "Not relevant\n",
    "Relevant\n",
    "Relevant\n",
    "Not relevant\n",
    "Relevant\n",
    "Not relevant\n",
    "Not relevant\n",
    "Relevant\n",
    "Not relevant\n",
    "Relevant\n",
    "Relevant\n",
    "Relevant\n",
    "Not relevant\n",
    "Not relevant\n",
    "Not relevant\n",
    "Relevant\n",
    "Relevant\n",
    "Relevant\n",
    "Not relevant\n",
    "Not relevant\n",
    "Not relevant\n",
    "```"
   ]
  },
  {
   "cell_type": "markdown",
   "metadata": {},
   "source": [
    "**You can do the following on paper (no need to submit anything).**"
   ]
  },
  {
   "cell_type": "markdown",
   "metadata": {},
   "source": [
    "1. Plot the Precision/Recall curve for this query.\n",
    "2. Derive the interpolated curve.\n",
    "3. Derive the eleven-point interpolated curve\n",
    "4. What is the R-precision? Give a graphical interpretation. 5. Derive the ROC curve."
   ]
  }
 ],
 "metadata": {
  "kernelspec": {
   "display_name": "Python 3",
   "language": "python",
   "name": "python3"
  },
  "language_info": {
   "codemirror_mode": {
    "name": "ipython",
    "version": 3
   },
   "file_extension": ".py",
   "mimetype": "text/x-python",
   "name": "python",
   "nbconvert_exporter": "python",
   "pygments_lexer": "ipython3",
   "version": "3.6.4"
  }
 },
 "nbformat": 4,
 "nbformat_minor": 2
}
