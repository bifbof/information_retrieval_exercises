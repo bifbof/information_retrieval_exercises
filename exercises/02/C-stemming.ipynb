{
 "cells": [
  {
   "cell_type": "markdown",
   "metadata": {},
   "source": [
    "Stemming and using the Porter stemmer\n",
    "=====================================\n",
    "\n",
    "This exercise is about stemming.  In this exercise we do not ask you to\n",
    "implement a stemmer, but give you the opportunity to play with the Porter\n",
    "stemmer that is a part of the [NLTK python library](www.nltk.org).\n",
    "\n",
    "Here is a quick example of how the Porter stemmer in NLTK can be used"
   ]
  },
  {
   "cell_type": "code",
   "execution_count": null,
   "metadata": {},
   "outputs": [],
   "source": [
    "from nltk.stem.porter import *\n",
    "stemmer = PorterStemmer()\n",
    "words = [\n",
    "    'caresses', 'flies', 'dies', 'mules', 'denied',\n",
    "    'died', 'agreed', 'owned', 'humbled', 'sized',\n",
    "    'meeting', 'stating', 'siezing', 'itemization',\n",
    "    'sensational', 'traditional', 'reference', 'colonizer',\n",
    "    'plotted'\n",
    "]\n",
    "for word in words:\n",
    "    print(stemmer.stem(word))"
   ]
  },
  {
   "cell_type": "markdown",
   "metadata": {},
   "source": [
    "Feel free to play around with the Porter stemmer to get a feel for how it\n",
    "transforms words.\n",
    "\n",
    "The required part for this exercise are the statements you find in moodle which touch on some issues that we face when we use a stemmer on the tokens of a document that we are indexing and searching for. Note that this question is exercise 2.1 from the book."
   ]
  }
 ],
 "metadata": {
  "kernelspec": {
   "display_name": "Python 3",
   "language": "python",
   "name": "python3"
  },
  "language_info": {
   "codemirror_mode": {
    "name": "ipython",
    "version": 3
   },
   "file_extension": ".py",
   "mimetype": "text/x-python",
   "name": "python",
   "nbconvert_exporter": "python",
   "pygments_lexer": "ipython3",
   "version": "3.6.4"
  }
 },
 "nbformat": 4,
 "nbformat_minor": 2
}
