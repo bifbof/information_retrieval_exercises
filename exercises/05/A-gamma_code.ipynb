{
 "cells": [
  {
   "cell_type": "markdown",
   "metadata": {},
   "source": [
    "# ɣ code\n",
    "\n",
    "This week's exercise is on ɣ-codes (book paragraph 5.3.2).\n",
    "\n",
    "You'll implement encoding and decoding ɣ-codes. Initially, the focus will be on encoding a single code. The second part requires you to write functions that decode a (non-delimited) sequence of codes.\n",
    "\n",
    "We provide the following function, that returns the index of the most significant bit (MSB) of the binary representation of num (from the right):"
   ]
  },
  {
   "cell_type": "code",
   "execution_count": null,
   "metadata": {},
   "outputs": [],
   "source": [
    "import sys\n",
    "sys.path.append(\"../../\")"
   ]
  },
  {
   "cell_type": "code",
   "execution_count": null,
   "metadata": {},
   "outputs": [],
   "source": [
    "import math\n",
    "\n",
    "def msb_index(num):\n",
    "    if num == 0:\n",
    "        return 0\n",
    "    return int(math.log(num, 2))\n",
    "\n",
    "print(msb_index(1))\n",
    "print(msb_index(2))\n",
    "print(msb_index(3))\n",
    "print(msb_index(16))\n",
    "print(msb_index(17))"
   ]
  },
  {
   "cell_type": "markdown",
   "metadata": {},
   "source": [
    "Implement the function `gamma_encode` that encodes `number` as a ɣ code:"
   ]
  },
  {
   "cell_type": "code",
   "execution_count": null,
   "metadata": {},
   "outputs": [],
   "source": [
    "def gamma_encode(number):\n",
    "    if number <= 0:\n",
    "        raise ValueError(\"Cannot gamma-encode number < 0\")\n",
    "    # TODO: assignment\n",
    "    return 0"
   ]
  },
  {
   "cell_type": "markdown",
   "metadata": {},
   "source": [
    "Here are some tests."
   ]
  },
  {
   "cell_type": "code",
   "execution_count": null,
   "metadata": {},
   "outputs": [],
   "source": [
    "# From book, table 5.5\n",
    "# (number, gamma code, length)\n",
    "values = \\\n",
    "[\n",
    "    (1, 0b0, 1),\n",
    "    (2, 0b100, 3),\n",
    "    (3, 0b101, 3),\n",
    "    (4, 0b11000, 5),\n",
    "    (9, 0b1110001, 7),\n",
    "    (13, 0b1110101, 7),\n",
    "    (24, 0b111101000, 9),\n",
    "    (511 , 0b11111111011111111, 17),\n",
    "    (1025, 0b111111111100000000001, 21)\n",
    "]\n",
    "\n",
    "for n, g, b in values:\n",
    "    assert(gamma_encode(n) == g)"
   ]
  },
  {
   "cell_type": "markdown",
   "metadata": {},
   "source": [
    "Now implement the function `gamma_decode` that decodes a ɣ-encoded number. The function should accept a sequence of ɣ-codes, decode the first one and return `(decoded number, number of bits decoded)`.\n",
    "For example `gamma_decode(0b1110101)` should return `(13, 7)` because the number 13 is encoded with 7 bits in ɣ-code."
   ]
  },
  {
   "cell_type": "code",
   "execution_count": null,
   "metadata": {},
   "outputs": [],
   "source": [
    "def gamma_decode(gcode):\n",
    "    if gcode < 0:\n",
    "        raise ValueError(\"gcode must be >= 0\")\n",
    "    # TODO: assignment\n",
    "    return None"
   ]
  },
  {
   "cell_type": "markdown",
   "metadata": {},
   "source": [
    "Tests:"
   ]
  },
  {
   "cell_type": "code",
   "execution_count": null,
   "metadata": {},
   "outputs": [],
   "source": [
    "for n, g, b in values:\n",
    "    assert(gamma_decode(g) == (n, b))"
   ]
  },
  {
   "cell_type": "markdown",
   "metadata": {},
   "source": [
    "To make the last part of the exercise easier, `gamma_decode` should support decoding the prefix of a bit string, i.e. the most significant bits of a bit string, as a ɣ-code:"
   ]
  },
  {
   "cell_type": "code",
   "execution_count": null,
   "metadata": {},
   "outputs": [],
   "source": [
    "assert(gamma_decode(0b100101110001111010000) == (2, 3))"
   ]
  },
  {
   "cell_type": "markdown",
   "metadata": {},
   "source": [
    "In this test, the first ɣ-code in the bitstring should be decoded (2) and the length of its encoding returned (3 bits).\n",
    "\n",
    "We can also verify that numbers correctly round-trip through a pair of encode and decode operations:"
   ]
  },
  {
   "cell_type": "code",
   "execution_count": null,
   "metadata": {},
   "outputs": [],
   "source": [
    "for x in range(1, 2049):\n",
    "    assert(gamma_decode(gamma_encode(x))[0] == x)"
   ]
  },
  {
   "cell_type": "markdown",
   "metadata": {},
   "source": [
    "Now that we have a function to decode a single ɣ-code, we can decode a bitstring containing a sequence of codes.\n",
    "\n",
    "Implement the following function that accepts a bitstring with a sequence of codes and its length in bits; it should return a list of the decoded numbers."
   ]
  },
  {
   "cell_type": "code",
   "execution_count": null,
   "metadata": {},
   "outputs": [],
   "source": [
    "def gamma_decode_stream(gcodes, slen):\n",
    "    if number < 0:\n",
    "        raise ValueError('Cannot decode \"negative\" bitstring')\n",
    "\n",
    "    # TODO: assignment\n",
    "    return None"
   ]
  },
  {
   "cell_type": "markdown",
   "metadata": {},
   "source": [
    "Tests for decoding a bitstring:"
   ]
  },
  {
   "cell_type": "code",
   "execution_count": null,
   "metadata": {},
   "outputs": [],
   "source": [
    "assert(gamma_decode_stream(0b100101110001111010000, 21) == [ 2, 3, 4, 24, 1 ])\n",
    "assert(gamma_decode_stream(0b11111111011111111000101, 23) == [ 511, 1, 1, 1, 3 ])\n",
    "assert(gamma_decode_stream(0b0000, 4) == [ 1, 1, 1, 1 ])\n",
    "assert(gamma_decode_stream(0b0000101, 7) == [ 1, 1, 1, 1, 3 ])\n",
    "assert(gamma_decode_stream(0b111101000001011001110001, 24) == [ 24, 1, 1, 3, 2, 9 ])"
   ]
  },
  {
   "cell_type": "code",
   "execution_count": null,
   "metadata": {},
   "outputs": [],
   "source": [
    "#Construct Posting list from gamma coded gaps\n",
    "#The first element of the gamma coded gaps list is document ID, rest are gaps\n",
    "# construct the posting list with document IDs by adding subsequent gaps to the initial document ID\n",
    "def construct_posting_list(gamma_decoded_gaps_list):\n",
    "    # TODO: assignment\n",
    "    return(posting_list)"
   ]
  },
  {
   "cell_type": "code",
   "execution_count": null,
   "metadata": {},
   "outputs": [],
   "source": [
    "assert(construct_posting_list(gamma_decode_stream(0b11111111011111111000101, 23)) == [511, 512, 513, 514, 517])"
   ]
  }
 ],
 "metadata": {
  "kernelspec": {
   "display_name": "Python 3",
   "language": "python",
   "name": "python3"
  },
  "language_info": {
   "codemirror_mode": {
    "name": "ipython",
    "version": 3
   },
   "file_extension": ".py",
   "mimetype": "text/x-python",
   "name": "python",
   "nbconvert_exporter": "python",
   "pygments_lexer": "ipython3",
   "version": "3.6.13"
  }
 },
 "nbformat": 4,
 "nbformat_minor": 2
}
