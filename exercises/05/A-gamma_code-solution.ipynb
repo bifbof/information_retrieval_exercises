{
 "cells": [
  {
   "cell_type": "markdown",
   "metadata": {},
   "source": [
    "# ɣ code\n",
    "\n",
    "This week's exercise is on ɣ-codes (book paragraph 5.3.2).\n",
    "\n",
    "You'll implement encoding and decoding ɣ-codes. Initially, the focus will be on encoding a single code. The second part requires you to write functions that decode a (non-delimited) sequence of codes.\n",
    "\n",
    "We provide the following function, that returns the index of the most significant bit (MSB) of the binary representation of num (from the right):"
   ]
  },
  {
   "cell_type": "code",
   "execution_count": 1,
   "metadata": {},
   "outputs": [],
   "source": [
    "import sys\n",
    "sys.path.append(\"../../\")"
   ]
  },
  {
   "cell_type": "code",
   "execution_count": 2,
   "metadata": {},
   "outputs": [
    {
     "name": "stdout",
     "output_type": "stream",
     "text": [
      "0\n",
      "1\n",
      "1\n",
      "4\n",
      "4\n"
     ]
    }
   ],
   "source": [
    "import math\n",
    "\n",
    "# Set this to true to get some debug output\n",
    "debug = False\n",
    "\n",
    "def msb_index(num):\n",
    "    if num == 0:\n",
    "        return 0\n",
    "    return int(math.log(num, 2))\n",
    "\n",
    "print(msb_index(1))\n",
    "print(msb_index(2))\n",
    "print(msb_index(3))\n",
    "print(msb_index(16))\n",
    "print(msb_index(17))"
   ]
  },
  {
   "cell_type": "markdown",
   "metadata": {},
   "source": [
    "Implement the function `gamma_encode` that encodes `number` as a ɣ code:"
   ]
  },
  {
   "cell_type": "code",
   "execution_count": 3,
   "metadata": {},
   "outputs": [],
   "source": [
    "def gamma_encode(number):\n",
    "    if number <= 0:\n",
    "        raise ValueError(\"Cannot gamma-encode number < 0\")\n",
    "    # Handle 1 specially\n",
    "    if number == 1:\n",
    "        return 0\n",
    "\n",
    "    m = msb_index(number)\n",
    "    length = (1 << (m)) - 1\n",
    "    length = length << 1\n",
    "    offset = number ^ (1 << m)\n",
    "    gcode = (length << m) | offset\n",
    "    if debug:\n",
    "        print(\"number = {0}, length = 0b{1:b}, offset = {2}, gcode = {3:b}\" \\\n",
    "                .format(number, length, offset, gcode))\n",
    "    return gcode"
   ]
  },
  {
   "cell_type": "markdown",
   "metadata": {},
   "source": [
    "Here are some tests."
   ]
  },
  {
   "cell_type": "code",
   "execution_count": 4,
   "metadata": {},
   "outputs": [],
   "source": [
    "# From book, table 5.5\n",
    "# (number, gamma code, length)\n",
    "values = \\\n",
    "[\n",
    "    (1, 0b0, 1),\n",
    "    (2, 0b100, 3),\n",
    "    (3, 0b101, 3),\n",
    "    (4, 0b11000, 5),\n",
    "    (9, 0b1110001, 7),\n",
    "    (13, 0b1110101, 7),\n",
    "    (24, 0b111101000, 9),\n",
    "    (511 , 0b11111111011111111, 17),\n",
    "    (1025, 0b111111111100000000001, 21)\n",
    "]\n",
    "\n",
    "for n, g, b in values:\n",
    "    assert(gamma_encode(n) == g)"
   ]
  },
  {
   "cell_type": "markdown",
   "metadata": {},
   "source": [
    "Now implement the function `gamma_decode` that decodes a ɣ-encoded number. The function should accept a sequence of ɣ-codes, decode the first one and return `(decoded number, number of bits decoded)`.\n",
    "For example `gamma_decode(0b1110101)` should return `(13, 7)` because the number 13 is encoded with 7 bits in ɣ-code."
   ]
  },
  {
   "cell_type": "code",
   "execution_count": 5,
   "metadata": {},
   "outputs": [],
   "source": [
    "def gamma_decode(gcode):\n",
    "    # Handle gamma code 0 specially\n",
    "    if gcode < 0:\n",
    "        raise ValueError(\"gcode must be >= 0\")\n",
    "    if gcode == 0:\n",
    "        return (1, 1)\n",
    "\n",
    "    length = 0\n",
    "    m = msb_index(gcode)\n",
    "    for k in range(m, -1, -1):\n",
    "        bdigit = gcode >> k & 0x1\n",
    "        if bdigit == 0:\n",
    "            break\n",
    "        length += 1\n",
    "    bitsconsumed = 2*length + 1\n",
    "    gcode = gcode >> (m-bitsconsumed+1)\n",
    "    offset = gcode & ((1 << length) - 1)\n",
    "    number = offset | (1 << length)\n",
    "    if debug:\n",
    "        print(\"gcode = 0b{0:b}, length = {1}, offset = {2}, num = {3}\" \\\n",
    "                .format(gcode, length, offset, number))\n",
    "    return (number, bitsconsumed)"
   ]
  },
  {
   "cell_type": "markdown",
   "metadata": {},
   "source": [
    "Tests:"
   ]
  },
  {
   "cell_type": "code",
   "execution_count": 6,
   "metadata": {},
   "outputs": [],
   "source": [
    "for n, g, b in values:\n",
    "    assert(gamma_decode(g) == (n, b))"
   ]
  },
  {
   "cell_type": "markdown",
   "metadata": {},
   "source": [
    "To make the last part of the exercise easier, `gamma_decode` should support decoding the prefix of a bit string, i.e. the most significant bits of a bit string, as a ɣ-code:"
   ]
  },
  {
   "cell_type": "code",
   "execution_count": 7,
   "metadata": {},
   "outputs": [],
   "source": [
    "assert(gamma_decode(0b100101110001111010000) == (2, 3))"
   ]
  },
  {
   "cell_type": "markdown",
   "metadata": {},
   "source": [
    "In this test, the first ɣ-code in the bitstring should be decoded (2) and the length of its encoding returned (3 bits).\n",
    "\n",
    "We can also verify that numbers correctly round-trip through a pair of encode and decode operations:"
   ]
  },
  {
   "cell_type": "code",
   "execution_count": 8,
   "metadata": {},
   "outputs": [],
   "source": [
    "for x in range(1, 2049):\n",
    "    assert(gamma_decode(gamma_encode(x))[0] == x)"
   ]
  },
  {
   "cell_type": "markdown",
   "metadata": {},
   "source": [
    "Now that we have a function to decode a single ɣ-code, we can decode a bitstring containing a sequence of codes.\n",
    "\n",
    "Implement the following function that accepts a bitstring with a sequence of codes and its length in bits; it should return a list of the decoded numbers."
   ]
  },
  {
   "cell_type": "code",
   "execution_count": 9,
   "metadata": {},
   "outputs": [],
   "source": [
    "def gamma_decode_stream(gcodes, slen):\n",
    "    # Note: this method currently does not handle trailing garbage. By design\n",
    "    # there can't be leading garbage, as any bitstring starts with a valid\n",
    "    # gamma code.\n",
    "    if debug:\n",
    "        print(\"####\")\n",
    "        print(\"decode stream: 0b{0:0{l}b}, slen: {1}\".format(gcodes, slen, l=slen))\n",
    "    numbers = []\n",
    "    rlen = slen\n",
    "    # Handle all 1s (gs=0) specially\n",
    "    if gcodes == 0 and rlen > 0:\n",
    "        return [ 1 ] * (rlen)\n",
    "\n",
    "    # Handle gs=0 at beginning of stream\n",
    "    while rlen > 0 and msb_index(gcodes) < rlen-1:\n",
    "        if debug:\n",
    "            print(\"> decoded 0b0->1\")\n",
    "        numbers.append(1)\n",
    "        rlen -= 1\n",
    "\n",
    "    while rlen > 0:\n",
    "        n, b = gamma_decode(gcodes)\n",
    "        m = msb_index(gcodes)\n",
    "        mask = (1 << (m-b + 1)) - 1\n",
    "        gc = gcodes >> (m-b+1)\n",
    "        if debug:\n",
    "            print(\"> decoded 0b{0:b}->{1}, mask 0b{2:b}, rlen {3}, remainder 0b{4:0{l}b}\" \\\n",
    "                    .format(gc, n, mask, rlen-b, gcodes & mask, l=rlen-b))\n",
    "        gcodes = gcodes & mask\n",
    "        rlen -= b\n",
    "        numbers.append(n)\n",
    "        # handle ones (gc=0)\n",
    "        while rlen > 0 and msb_index(gcodes) < rlen-1:\n",
    "            if debug:\n",
    "                print(\"> decoded 0b0->1\")\n",
    "            numbers.append(1)\n",
    "            rlen -= 1\n",
    "            if debug:\n",
    "                print(\"> rlen {}, msb_index({:b}) == {}\".format(rlen, gcodes, msb_index(gcodes)))\n",
    "\n",
    "    if debug:\n",
    "        print(\"Decoded:\", numbers)\n",
    "        print(\"####\")\n",
    "    return numbers"
   ]
  },
  {
   "cell_type": "markdown",
   "metadata": {},
   "source": [
    "Tests for decoding a bitstring:"
   ]
  },
  {
   "cell_type": "code",
   "execution_count": 10,
   "metadata": {},
   "outputs": [],
   "source": [
    "assert(gamma_decode_stream(0b100101110001111010000, 21) == [ 2, 3, 4, 24, 1 ])\n",
    "assert(gamma_decode_stream(0b11111111011111111000101, 23) == [ 511, 1, 1, 1, 3 ])\n",
    "assert(gamma_decode_stream(0b0000, 4) == [ 1, 1, 1, 1 ])\n",
    "assert(gamma_decode_stream(0b0000101, 7) == [ 1, 1, 1, 1, 3 ])\n",
    "assert(gamma_decode_stream(0b111101000001011001110001, 24) == [ 24, 1, 1, 3, 2, 9 ])"
   ]
  },
  {
   "cell_type": "code",
   "execution_count": 11,
   "metadata": {},
   "outputs": [],
   "source": [
    "#Construct Posting list from gamma coded gaps\n",
    "#The first element of the gamma coded gaps list is document ID, rest are gaps\n",
    "# construct the posting list with document IDs by adding subsequent gaps to the initial document ID\n",
    "def construct_posting_list(gamma_decoded_gaps_list):\n",
    "    posting_list = [sum(gamma_decoded_gaps_list[:i+1]) for i in range(len(gamma_decoded_gaps_list))]\n",
    "    return(posting_list)"
   ]
  },
  {
   "cell_type": "code",
   "execution_count": 12,
   "metadata": {},
   "outputs": [],
   "source": [
    "assert(construct_posting_list(gamma_decode_stream(0b11111111011111111000101, 23)) == [511, 512, 513, 514, 517])"
   ]
  },
  {
   "cell_type": "markdown",
   "metadata": {},
   "source": [
    "## Solutions to Moodle Programming Assignment Based Questions"
   ]
  },
  {
   "cell_type": "markdown",
   "metadata": {},
   "source": [
    "### Exercise 5 - Q7\n",
    "Match the γ codes for gap list <777, 17743, 294068, 31251336>"
   ]
  },
  {
   "cell_type": "code",
   "execution_count": 13,
   "metadata": {},
   "outputs": [
    {
     "name": "stdout",
     "output_type": "stream",
     "text": [
      "555 0b1111111110000101011\n",
      "16789 0b11111111111111000000110010101\n",
      "17 0b111100001\n",
      "78854432 0b11111111111111111111111111000101100110011100100100000\n",
      "234190 0b11111111111111111011001001011001110\n"
     ]
    }
   ],
   "source": [
    "hw_list = [555, 16789, 17, 78854432, 234190]\n",
    "for num in hw_list:\n",
    "    print(num, bin(gamma_encode(num)))"
   ]
  },
  {
   "cell_type": "markdown",
   "metadata": {},
   "source": [
    "### Exercise 5 - Q8\n",
    "\n",
    "The following questions are based on the programming assignment\n",
    "\n",
    "Consider the following posting list \n",
    "\n",
    "[1044, 1765, 2117, 2814, 29273, 31817, 32584, 34936, 38435, 40050, 41777, 45017, 56469, 58884, 67206, 69481, 75047, 87590, 92877, 98267]\n",
    "\n",
    "Which of the following numbers is NOT part of the gap list corresponding to the posting list?\n",
    "\n",
    "* 1044\n",
    "* 3499\n",
    "* 3240\n",
    "* 3975\n",
    "\n",
    "What is the number of bits in the γ code stream for the gap list corresponding to the posting list?\n",
    "\n",
    "* 460\n",
    "* 514\n",
    "* 454\n",
    "* 476"
   ]
  },
  {
   "cell_type": "code",
   "execution_count": 14,
   "metadata": {},
   "outputs": [],
   "source": [
    "import re\n",
    "    \n",
    "#From posting list construct the gaplist \n",
    "# gap_list[0] = posting_list[0] (docID for the first posting)\n",
    "# gap_list[i] = posting_list[i] - posting_list[i-1] (for i != 0)\n",
    "def construct_gap_list(posting_list):\n",
    "    gap_list = []\n",
    "    gap_list.append(posting_list[0])\n",
    "    for i in range(1,len(posting_list)):\n",
    "        gap_list.append(posting_list[i]-posting_list[i-1])\n",
    "    return(gap_list)\n",
    "\n",
    "# Function to generate the encoded string by\n",
    "# encoding each number in the gap_list and creating a single \n",
    "# sequence of binary numbers\n",
    "def generate_encoded_string(gap_encoding):\n",
    "    encoded_str = \"\"\n",
    "    length_enc_string = 0\n",
    "    for x in gap_encoding:\n",
    "        encoded_str = encoded_str + bin(x)\n",
    "    encoded_str = re.sub(\"0b\",\"\",encoded_str)\n",
    "    length_enc_string = len(encoded_str)\n",
    "    encoded_str = '0b'+encoded_str\n",
    "    return([encoded_str, length_enc_string])"
   ]
  },
  {
   "cell_type": "code",
   "execution_count": 15,
   "metadata": {},
   "outputs": [
    {
     "name": "stdout",
     "output_type": "stream",
     "text": [
      "Gap list: [1044, 721, 352, 697, 26459, 2544, 767, 2352, 3499, 1615, 1727, 3240, 11452, 2415, 8322, 2275, 5566, 12543, 5287, 5390]\n",
      "Length of encoded stream: 460\n"
     ]
    }
   ],
   "source": [
    "#Given posting list\n",
    "posting_list = [1044, 1765, 2117, 2814, 29273, 31817, 32584, 34936, 38435, 40050, 41777, 45017, 56469, 58884, 67206, 69481, 75047, 87590, 92877, 98267]\n",
    "\n",
    "#Get gap list from posting list\n",
    "gap_list = construct_gap_list(posting_list)\n",
    "print(\"Gap list:\", gap_list)\n",
    "\n",
    "#Encode the numbers in the gap list using gamma encoding\n",
    "gap_encoding = []\n",
    "for gap in range(0,len(gap_list),1):\n",
    "    gap_encoding.append(gamma_encode(gap_list[gap]))\n",
    "\n",
    "encoded_stream,length_enc_stream = generate_encoded_string(gap_encoding)\n",
    "#print(\"Encoded Stream:\", encoded_stream)\n",
    "print(\"Length of encoded stream:\", length_enc_stream)"
   ]
  },
  {
   "cell_type": "markdown",
   "metadata": {},
   "source": [
    "#### Answers:\n",
    "Looking into the gap list, we find 3975 is not part of the gap list\n",
    "\n",
    "Length of encoded stream is 460"
   ]
  },
  {
   "cell_type": "markdown",
   "metadata": {},
   "source": [
    "### Exercise 5 - Q9\n",
    "For the following γ code stream \n",
    "\n",
    "0b11111101110111111111111111111111010010111011111110101111111111111111110111001111001111001111111110110001001111111111110101011110010\n",
    "\n",
    "(Length of gamma code is 131)\n",
    "\n",
    "which of the following numbers is not part of the decoded list?"
   ]
  },
  {
   "cell_type": "code",
   "execution_count": 16,
   "metadata": {},
   "outputs": [
    {
     "name": "stdout",
     "output_type": "stream",
     "text": [
      "[123, 834554, 499321, 452, 6898]\n"
     ]
    }
   ],
   "source": [
    "# Running gamma decode stream on the encoded stream we get\n",
    "print(gamma_decode_stream(0b11111101110111111111111111111111010010111011111110101111111111111111110111001111001111001111111110110001001111111111110101011110010,131))"
   ]
  },
  {
   "cell_type": "markdown",
   "metadata": {},
   "source": [
    "#### Answers:\n",
    "499320 is not in the decoded list"
   ]
  },
  {
   "cell_type": "markdown",
   "metadata": {},
   "source": [
    "### Exercise 5 - Q9\n",
    "The following γ coded stream encodes the numbers in the gap list of a term \n",
    "\n",
    "0b1111111100101110011111111110001100111011111111110110010001111111111111111111110000000010001000011111111111111111111011101100110011001\n",
    "\n",
    "(Length of stream is 131)\n",
    "\n",
    "Which of the following numbers are NOT part of the Posting list for the term\n",
    "\n",
    "* 529776\n",
    "* 1578\n",
    "* 782189\n",
    "* 3405"
   ]
  },
  {
   "cell_type": "code",
   "execution_count": 17,
   "metadata": {},
   "outputs": [
    {
     "data": {
      "text/plain": [
       "[348, 1578, 3405, 529876, 782189]"
      ]
     },
     "execution_count": 17,
     "metadata": {},
     "output_type": "execute_result"
    }
   ],
   "source": [
    "#Getting the posting list from the gap list\n",
    "# 1. deocde the stream using gamma_decode_stream() to get the gap list\n",
    "# 2. construct the posting list from the gap list using construct_posting_list()\n",
    "construct_posting_list(gamma_decode_stream(0b1111111100101110011111111110001100111011111111110110010001111111111111111111110000000010001000011111111111111111111011101100110011001,131))"
   ]
  },
  {
   "cell_type": "markdown",
   "metadata": {},
   "source": [
    "#### Answer:\n",
    "\n",
    "529776 is not part of the posting list"
   ]
  },
  {
   "cell_type": "code",
   "execution_count": null,
   "metadata": {},
   "outputs": [],
   "source": []
  }
 ],
 "metadata": {
  "kernelspec": {
   "display_name": "Python 3",
   "language": "python",
   "name": "python3"
  },
  "language_info": {
   "codemirror_mode": {
    "name": "ipython",
    "version": 3
   },
   "file_extension": ".py",
   "mimetype": "text/x-python",
   "name": "python",
   "nbconvert_exporter": "python",
   "pygments_lexer": "ipython3",
   "version": "3.6.13"
  }
 },
 "nbformat": 4,
 "nbformat_minor": 2
}
