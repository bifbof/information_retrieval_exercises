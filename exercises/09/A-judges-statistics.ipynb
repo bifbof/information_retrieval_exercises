{
 "cells": [
  {
   "cell_type": "code",
   "execution_count": null,
   "metadata": {},
   "outputs": [],
   "source": [
    "from IPython.display import display, Markdown"
   ]
  },
  {
   "cell_type": "markdown",
   "metadata": {},
   "source": [
    "This exercise is on assessing relevance by collecting judegements from humans.\n",
    "We submitted a list of information need – document pair to two judges, Alice and Bob, and got the following assessments (R = relevant, N = not relevant)."
   ]
  },
  {
   "cell_type": "code",
   "execution_count": null,
   "metadata": {},
   "outputs": [],
   "source": [
    "alice = ['N', 'R', 'R', 'N', 'N', 'R', 'N', 'R', 'N', 'R', 'N', 'N', 'R', 'N', 'N', 'R', 'R', 'N', 'R', 'N', 'R', 'N', 'N', 'R', 'N', 'R', 'N', 'N', 'R', 'R', 'R', 'R', 'R', 'N', 'R', 'N', 'R', 'R', 'N', 'R', 'N', 'R']\n",
    "bob = ['R', 'R', 'N', 'R', 'N', 'R', 'R', 'N', 'R', 'N', 'R', 'N', 'R', 'N', 'R', 'N', 'R', 'R', 'N', 'N', 'R', 'N', 'R', 'R', 'N', 'R', 'R', 'R', 'N', 'R', 'N', 'R', 'R', 'N', 'R', 'N', 'R', 'N', 'R', 'N', 'N', 'R']"
   ]
  },
  {
   "cell_type": "markdown",
   "metadata": {},
   "source": [
    "Compute the relevance statistics so that the following cell correctly displays the two-dimension table.\n",
    "You can start by evaluating the two cells to see where the various variables are printed, then replace the strings here with the statistics."
   ]
  },
  {
   "cell_type": "code",
   "execution_count": null,
   "metadata": {},
   "outputs": [],
   "source": [
    "pairs_alice_bob = list(zip(alice, bob))"
   ]
  },
  {
   "cell_type": "code",
   "execution_count": null,
   "metadata": {},
   "outputs": [],
   "source": [
    "stat_1r_2r = 'stat_1r_2r'\n",
    "stat_1n_2r = 'stat_1n_2r'\n",
    "stat_1r_2n = 'stat_1r_2n'\n",
    "stat_1n_2n = 'stat_1n_2n'"
   ]
  },
  {
   "cell_type": "code",
   "execution_count": null,
   "metadata": {},
   "outputs": [],
   "source": [
    "total_1r = stat_1r_2r + stat_1r_2n\n",
    "total_1n = stat_1n_2r + stat_1n_2n\n",
    "total_2r = stat_1r_2r + stat_1n_2r\n",
    "total_2n = stat_1r_2n + stat_1n_2n\n",
    "total = stat_1r_2r + stat_1n_2r + stat_1r_2n + stat_1n_2n\n",
    "\n",
    "display(Markdown(\n",
    "    \"|            | Alice, R   | Alice, N   |  Total   |\\n\"\n",
    "    \"|------------|------------|------------|----------|\\n\"\n",
    "    \"| Bob, R     |{stat_1r_2r}|{stat_1n_2r}|{total_2r}|\\n\"\n",
    "    \"| Bob, N     |{stat_1r_2n}|{stat_1n_2n}|{total_2n}|\\n\"\n",
    "    \"| Total      |{total_1r}  |{total_1n}  |{total}   |\\n\"    \n",
    "    .format(**{\n",
    "        'stat_1r_2r': stat_1r_2r,\n",
    "        'stat_1n_2r': stat_1n_2r,\n",
    "        'stat_1r_2n': stat_1r_2n,\n",
    "        'stat_1n_2n': stat_1n_2n,\n",
    "        'total_1r': total_1r,\n",
    "        'total_1n': total_1n,\n",
    "        'total_2r': total_2r,\n",
    "        'total_2n': total_2n,\n",
    "        'total': total,\n",
    "    })\n",
    "))"
   ]
  },
  {
   "cell_type": "markdown",
   "metadata": {},
   "source": [
    "Now compute the probability of agreement, $ P(A) $."
   ]
  },
  {
   "cell_type": "code",
   "execution_count": null,
   "metadata": {},
   "outputs": [],
   "source": [
    "P_A = 0\n",
    "display(Markdown(\"$ P(A) $ = {}\".format(P_A)))"
   ]
  },
  {
   "cell_type": "markdown",
   "metadata": {},
   "source": [
    "Calculate the marginal pooled probabilities of relevance $ P(R) $ and non-relevance $ P(N) $."
   ]
  },
  {
   "cell_type": "code",
   "execution_count": null,
   "metadata": {},
   "outputs": [],
   "source": [
    "P_R = 0\n",
    "P_N = 0\n",
    "\n",
    "display(Markdown(\n",
    "    \"$ P(R) $ = {}\"\n",
    "    \"\\n\\n\"\n",
    "    \"$ P(N) $ = {}\"\n",
    "    .format(P_R, P_N)))"
   ]
  },
  {
   "cell_type": "markdown",
   "metadata": {},
   "source": [
    "Compute the probability of agreement by chance $ P(E) $."
   ]
  },
  {
   "cell_type": "code",
   "execution_count": null,
   "metadata": {},
   "outputs": [],
   "source": [
    "P_E = 0\n",
    "\n",
    "display(Markdown(\n",
    "    \"$ P(E) $ = {}\".format(P_E)))"
   ]
  },
  {
   "cell_type": "markdown",
   "metadata": {},
   "source": [
    "Compute the kappa $ \\kappa $ statistic."
   ]
  },
  {
   "cell_type": "code",
   "execution_count": null,
   "metadata": {},
   "outputs": [],
   "source": [
    "P_E = 0\n",
    "\n",
    "display(Markdown(\n",
    "    \"$ \\kappa $ = {}\".format(P_E)))"
   ]
  },
  {
   "cell_type": "markdown",
   "metadata": {},
   "source": [
    "Is it always true that the marginal pooled probabilities of relevance is the arithmetic means of the marginal probabilities of relevance of each agent?"
   ]
  },
  {
   "cell_type": "markdown",
   "metadata": {},
   "source": [
    "_type here_\n"
   ]
  }
 ],
 "metadata": {
  "kernelspec": {
   "display_name": "Python 3",
   "language": "python",
   "name": "python3"
  },
  "language_info": {
   "codemirror_mode": {
    "name": "ipython",
    "version": 3
   },
   "file_extension": ".py",
   "mimetype": "text/x-python",
   "name": "python",
   "nbconvert_exporter": "python",
   "pygments_lexer": "ipython3",
   "version": "3.6.4"
  }
 },
 "nbformat": 4,
 "nbformat_minor": 2
}
